{
 "cells": [
  {
   "cell_type": "markdown",
   "metadata": {},
   "source": [
    "### Derivation of Mean Average Precision for the VOC model\n",
    "Hyper parameters:\n",
    "* Two cells in each row and column.\n",
    "* Two predicted bounding boxes for each cell.\n",
    "* Three object classes.\n",
    "* Two batches."
   ]
  },
  {
   "cell_type": "code",
   "execution_count": 389,
   "metadata": {},
   "outputs": [],
   "source": [
    "import torch\n",
    "import torch.nn as nn"
   ]
  },
  {
   "cell_type": "code",
   "execution_count": 390,
   "metadata": {},
   "outputs": [],
   "source": [
    "BATCHES = 2\n",
    "CELLS = 2\n",
    "CLASSES = 3\n",
    "BOXES = 2\n",
    "LABEL_ITEM_SIZE = CLASSES + 5\n",
    "PRED_ITEM_SIZE = CLASSES + 5 * BOXES\n",
    "\n",
    "IOU_THRESHOLDS = [0.5, 0.75]"
   ]
  },
  {
   "cell_type": "code",
   "execution_count": 391,
   "metadata": {},
   "outputs": [],
   "source": [
    "# create sample prediction label\n",
    "label = torch.zeros((BATCHES, CELLS, CELLS, LABEL_ITEM_SIZE))\n",
    "\n",
    "# batch 0: cell: (0, 0), class: 0, location in the middle\n",
    "label[0][0][0] = torch.Tensor([1, 0, 0, 1, 0.5, 0.5, 0.9, 0.9])\n",
    "\n",
    "# batch 0: cell: (1, 0), class: 0, location in the middle\n",
    "label[0][1][0] = torch.Tensor([1, 0, 0, 1, 0.51, 0.49, 0.6, 0.6])\n",
    "\n",
    "# batch 1: cell: (1, 1), class: 1, location in the middle\n",
    "label[1][1][1] = torch.Tensor([0, 1, 0, 1, 0.5, 0.5, 0.8, 0.8])"
   ]
  },
  {
   "cell_type": "code",
   "execution_count": 392,
   "metadata": {},
   "outputs": [],
   "source": [
    "# create sample prediction data\n",
    "pred = torch.rand((BATCHES, CELLS, CELLS, PRED_ITEM_SIZE)) * 0.1\n",
    "\n",
    "# batch 0: cell: (0, 0), box: 0, class: 0, true positive\n",
    "pred[0][0][0][:CLASSES] = torch.Tensor([0.8, 0.2, 0.5])\n",
    "pred[0][0][0][CLASSES: CLASSES + 5] = torch.Tensor([0.9, 0.45, 0.55, 0.85, 0.95])\n",
    "\n",
    "# batch 1: cell: (1, 1), box: 1, class: 1, true positive\n",
    "pred[1][1][1][:CLASSES] = torch.Tensor([0.1, 0.7, 0.1])\n",
    "pred[1][1][1][CLASSES + 5: CLASSES + 10] = torch.Tensor([0.6, 0.44, 0.52, 0.8, 0.8])\n",
    "\n",
    "# batch 1: cell: (0, 1), box: 0, class: 2, false positive\n",
    "pred[1][0][0][:CLASSES] = torch.Tensor([0.1, 0.5, 0.8])\n",
    "pred[1][0][0][CLASSES: CLASSES + 5] = torch.Tensor([0.7, 0.1, 0.1, 1.0, 0.2])"
   ]
  },
  {
   "cell_type": "code",
   "execution_count": 393,
   "metadata": {},
   "outputs": [
    {
     "name": "stdout",
     "output_type": "stream",
     "text": [
      "labels\n",
      "batch 0\n",
      "tensor([[[1.0000, 0.0000, 0.0000, 1.0000, 0.5000, 0.5000, 0.9000, 0.9000],\n",
      "         [0.0000, 0.0000, 0.0000, 0.0000, 0.0000, 0.0000, 0.0000, 0.0000]],\n",
      "\n",
      "        [[1.0000, 0.0000, 0.0000, 1.0000, 0.5100, 0.4900, 0.6000, 0.6000],\n",
      "         [0.0000, 0.0000, 0.0000, 0.0000, 0.0000, 0.0000, 0.0000, 0.0000]]])\n",
      "batch 1\n",
      "tensor([[[0.0000, 0.0000, 0.0000, 0.0000, 0.0000, 0.0000, 0.0000, 0.0000],\n",
      "         [0.0000, 0.0000, 0.0000, 0.0000, 0.0000, 0.0000, 0.0000, 0.0000]],\n",
      "\n",
      "        [[0.0000, 0.0000, 0.0000, 0.0000, 0.0000, 0.0000, 0.0000, 0.0000],\n",
      "         [0.0000, 1.0000, 0.0000, 1.0000, 0.5000, 0.5000, 0.8000, 0.8000]]])\n"
     ]
    }
   ],
   "source": [
    "print('labels')\n",
    "for i in range(BATCHES):\n",
    "\tprint(f'batch {i}')\n",
    "\tprint(label[i])"
   ]
  },
  {
   "cell_type": "code",
   "execution_count": 394,
   "metadata": {},
   "outputs": [
    {
     "name": "stdout",
     "output_type": "stream",
     "text": [
      "predictions\n",
      "batch 0\n",
      "tensor([[[0.8000, 0.2000, 0.5000, 0.9000, 0.4500, 0.5500, 0.8500, 0.9500,\n",
      "          0.0948, 0.0910, 0.0930, 0.0036, 0.0175],\n",
      "         [0.0931, 0.0965, 0.0706, 0.0945, 0.0326, 0.0823, 0.0730, 0.0206,\n",
      "          0.0991, 0.0570, 0.0791, 0.0298, 0.0918]],\n",
      "\n",
      "        [[0.0863, 0.0777, 0.0520, 0.0787, 0.0178, 0.0419, 0.0448, 0.0019,\n",
      "          0.0486, 0.0982, 0.0675, 0.0598, 0.0828],\n",
      "         [0.0055, 0.0223, 0.0021, 0.0447, 0.0527, 0.0410, 0.0101, 0.0292,\n",
      "          0.0451, 0.0450, 0.0295, 0.0080, 0.0536]]])\n",
      "batch 1\n",
      "tensor([[[0.1000, 0.5000, 0.8000, 0.7000, 0.1000, 0.1000, 1.0000, 0.2000,\n",
      "          0.0696, 0.0474, 0.0423, 0.0736, 0.0602],\n",
      "         [0.0345, 0.0571, 0.0519, 0.0324, 0.0421, 0.0735, 0.0874, 0.0769,\n",
      "          0.0395, 0.0184, 0.0786, 0.0174, 0.0891]],\n",
      "\n",
      "        [[0.0104, 0.0601, 0.0371, 0.0779, 0.0124, 0.0992, 0.0137, 0.0766,\n",
      "          0.0276, 0.0661, 0.0603, 0.0369, 0.0202],\n",
      "         [0.1000, 0.7000, 0.1000, 0.0661, 0.0662, 0.0708, 0.0795, 0.0857,\n",
      "          0.6000, 0.4400, 0.5200, 0.8000, 0.8000]]])\n"
     ]
    }
   ],
   "source": [
    "print('predictions')\n",
    "for i in range(BATCHES):\n",
    "\tprint(f'batch {i}')\n",
    "\tprint(pred[i])"
   ]
  },
  {
   "cell_type": "markdown",
   "metadata": {},
   "source": [
    "For each cell choose the predicted bounding box with the higher confidence.\n",
    "\n",
    "The goal is to achieve `pred.shape == label.shape`."
   ]
  },
  {
   "cell_type": "code",
   "execution_count": 395,
   "metadata": {},
   "outputs": [],
   "source": [
    "# extract the predicted classes\n",
    "# (batch, cells, cells, classes)\n",
    "pred_classes = pred[..., :CLASSES]\n",
    "\n",
    "# extract the predicted bounding boxes\n",
    "# (batch, cells, cells, 5 * b)\n",
    "pred_boxes = pred[..., CLASSES:]\n",
    "\n",
    "# place the boxes in their own dimensions\n",
    "# (batch, cells, cells, b, 5)\n",
    "pred_boxes = pred_boxes.view((BATCHES, CELLS, CELLS, BOXES, 5))\n",
    "\n",
    "# extract the probabilities of the boxes\n",
    "# (batch, cells, cells, b)\n",
    "pred_probs = pred_boxes[..., 0]\n",
    "\n",
    "# find the indices of the maximum probabilities\n",
    "# (batch, cells, cells, 1)\n",
    "_, indices = torch.max(pred_probs, dim=-1, keepdim=True)\n",
    "\n",
    "# reshape the indices to match the boxes\n",
    "# (batch, cells, cells, 1, 5)\n",
    "indices = indices.unsqueeze(-1).repeat((1, 1, 1, 1, 5))\n",
    "\n",
    "# gather the boxes with the maximum indices\n",
    "# pred_boxes[i, j, k, 0, l] <- pred_boxes[i, j, k, indices[i, j, k, l], l]\n",
    "# pred_boxes[batch, cells, cells, 1, 5]\n",
    "pred_boxes = torch.gather(pred_boxes, dim=3, index=indices)\n",
    "\n",
    "# remove the boxes dimension\n",
    "# pred_boxes[batch, cells, cells, 5]\n",
    "pred_boxes = pred_boxes.squeeze(3)"
   ]
  },
  {
   "cell_type": "code",
   "execution_count": 396,
   "metadata": {},
   "outputs": [],
   "source": [
    "# concat the boxes with the classes\n",
    "# pred_boxes[batch, cells, cells, classes + 5]\n",
    "pred = torch.concat((pred_classes, pred_boxes), dim=-1)"
   ]
  },
  {
   "cell_type": "code",
   "execution_count": 397,
   "metadata": {},
   "outputs": [
    {
     "name": "stdout",
     "output_type": "stream",
     "text": [
      "predictions\n",
      "batch 0\n",
      "tensor([[[0.8000, 0.2000, 0.5000, 0.9000, 0.4500, 0.5500, 0.8500, 0.9500],\n",
      "         [0.0931, 0.0965, 0.0706, 0.0991, 0.0570, 0.0791, 0.0298, 0.0918]],\n",
      "\n",
      "        [[0.0863, 0.0777, 0.0520, 0.0787, 0.0178, 0.0419, 0.0448, 0.0019],\n",
      "         [0.0055, 0.0223, 0.0021, 0.0451, 0.0450, 0.0295, 0.0080, 0.0536]]])\n",
      "batch 1\n",
      "tensor([[[0.1000, 0.5000, 0.8000, 0.7000, 0.1000, 0.1000, 1.0000, 0.2000],\n",
      "         [0.0345, 0.0571, 0.0519, 0.0395, 0.0184, 0.0786, 0.0174, 0.0891]],\n",
      "\n",
      "        [[0.0104, 0.0601, 0.0371, 0.0779, 0.0124, 0.0992, 0.0137, 0.0766],\n",
      "         [0.1000, 0.7000, 0.1000, 0.6000, 0.4400, 0.5200, 0.8000, 0.8000]]])\n"
     ]
    }
   ],
   "source": [
    "print('predictions')\n",
    "for i in range(BATCHES):\n",
    "\tprint(f'batch {i}')\n",
    "\tprint(pred[i])"
   ]
  },
  {
   "cell_type": "markdown",
   "metadata": {},
   "source": [
    "Convert the objects from being relative to a cell to absolute."
   ]
  },
  {
   "cell_type": "code",
   "execution_count": 398,
   "metadata": {},
   "outputs": [],
   "source": [
    "def to_absolute(boxes):\n",
    "\t'''\n",
    "\tinput:\n",
    "\t\tboxes: (batch, cells, cells, classes + 5)\n",
    "\toutput:\n",
    "\t\tabsolute boxes: (batch, cells^2, classes + 5)\n",
    "\t'''\n",
    "\t# extract the dimensions\n",
    "\tbatch, cells_a, cells_b, cp5 = boxes.shape\n",
    "\tclasses = cp5 - 5\n",
    "\t\n",
    "\t# absolute cell size (width, height)\n",
    "\tcell_size = torch.Tensor([1 / cells_b, 1 / cells_a])\n",
    "\n",
    "\t# calculate the offset of each cell\n",
    "\t# such that offset[i][j] = [cell's column, cell's row]\n",
    "\t# (cells, cells, 2)\n",
    "\toffsets = torch.Tensor([\n",
    "\t\tlist(zip(range(cells_b), [i] * cells_b))\n",
    "\t\tfor i in range(cells_a)\n",
    "\t])\n",
    "\n",
    "\t# expand to match the size of boxes\n",
    "\t# (1, cells, cells, offset)\n",
    "\toffsets = offsets.unsqueeze(0)\n",
    "\n",
    "\t# multiply the offsets by the cell sizes to get the absolute cell locations\n",
    "\tcell_location = offsets * cell_size\n",
    "\n",
    "\t# un-normalize the objects's locations\n",
    "\t# location <- cell location + cell size * location\n",
    "\tboxes[..., classes + 1: classes + 3] *= cell_size\n",
    "\tboxes[..., classes + 1: classes + 3] += cell_location\n",
    "\n",
    "\t# un-normalize the objects' sizes\n",
    "\tboxes[..., classes + 3: classes + 5] *= cell_size\n",
    "\n",
    "\t# flatten\n",
    "\t# (batch, cells^2, classes + 5)\n",
    "\treturn boxes.reshape((batch, cells_a * cells_b, cp5))"
   ]
  },
  {
   "cell_type": "code",
   "execution_count": 399,
   "metadata": {},
   "outputs": [],
   "source": [
    "# (batch, cells^2, classes + 5)\n",
    "pred = to_absolute(pred)\n",
    "label = to_absolute(label)"
   ]
  },
  {
   "cell_type": "code",
   "execution_count": 400,
   "metadata": {},
   "outputs": [
    {
     "name": "stdout",
     "output_type": "stream",
     "text": [
      "predictions\n",
      "batch 0\n",
      "tensor([[0.8000, 0.2000, 0.5000, 0.9000, 0.2250, 0.2750, 0.4250, 0.4750],\n",
      "        [0.0931, 0.0965, 0.0706, 0.0991, 0.5285, 0.0396, 0.0149, 0.0459],\n",
      "        [0.0863, 0.0777, 0.0520, 0.0787, 0.0089, 0.5209, 0.0224, 0.0009],\n",
      "        [0.0055, 0.0223, 0.0021, 0.0451, 0.5225, 0.5148, 0.0040, 0.0268]])\n",
      "batch 1\n",
      "tensor([[0.1000, 0.5000, 0.8000, 0.7000, 0.0500, 0.0500, 0.5000, 0.1000],\n",
      "        [0.0345, 0.0571, 0.0519, 0.0395, 0.5092, 0.0393, 0.0087, 0.0446],\n",
      "        [0.0104, 0.0601, 0.0371, 0.0779, 0.0062, 0.5496, 0.0068, 0.0383],\n",
      "        [0.1000, 0.7000, 0.1000, 0.6000, 0.7200, 0.7600, 0.4000, 0.4000]])\n"
     ]
    }
   ],
   "source": [
    "print('predictions')\n",
    "for i in range(BATCHES):\n",
    "\tprint(f'batch {i}')\n",
    "\tprint(pred[i])"
   ]
  },
  {
   "cell_type": "code",
   "execution_count": 401,
   "metadata": {},
   "outputs": [
    {
     "name": "stdout",
     "output_type": "stream",
     "text": [
      "labels\n",
      "batch 0\n",
      "tensor([[1.0000, 0.0000, 0.0000, 1.0000, 0.2500, 0.2500, 0.4500, 0.4500],\n",
      "        [0.0000, 0.0000, 0.0000, 0.0000, 0.5000, 0.0000, 0.0000, 0.0000],\n",
      "        [1.0000, 0.0000, 0.0000, 1.0000, 0.2550, 0.7450, 0.3000, 0.3000],\n",
      "        [0.0000, 0.0000, 0.0000, 0.0000, 0.5000, 0.5000, 0.0000, 0.0000]])\n",
      "batch 1\n",
      "tensor([[0.0000, 0.0000, 0.0000, 0.0000, 0.0000, 0.0000, 0.0000, 0.0000],\n",
      "        [0.0000, 0.0000, 0.0000, 0.0000, 0.5000, 0.0000, 0.0000, 0.0000],\n",
      "        [0.0000, 0.0000, 0.0000, 0.0000, 0.0000, 0.5000, 0.0000, 0.0000],\n",
      "        [0.0000, 1.0000, 0.0000, 1.0000, 0.7500, 0.7500, 0.4000, 0.4000]])\n"
     ]
    }
   ],
   "source": [
    "print('labels')\n",
    "for i in range(BATCHES):\n",
    "\tprint(f'batch {i}')\n",
    "\tprint(label[i])"
   ]
  },
  {
   "cell_type": "markdown",
   "metadata": {},
   "source": [
    "For the labels in each batch, extract the vectors where the confidence is 1.\n",
    "This operation will convert the label tensor to a list of tensors.\n",
    "```\n",
    "(batch, classes + 5) -> list of (classes + 5,)\n",
    "```"
   ]
  },
  {
   "cell_type": "code",
   "execution_count": 402,
   "metadata": {},
   "outputs": [],
   "source": [
    "# [(cells^2, classes + 5,)], len = batches\n",
    "label = [label[i] for i in range(BATCHES)]\n",
    "\n",
    "# [(x, classes + 5,)], len = batches\n",
    "label = [l[l[:, CLASSES] > 0.5] for l in label]"
   ]
  },
  {
   "cell_type": "code",
   "execution_count": 403,
   "metadata": {},
   "outputs": [
    {
     "data": {
      "text/plain": [
       "[tensor([[1.0000, 0.0000, 0.0000, 1.0000, 0.2500, 0.2500, 0.4500, 0.4500],\n",
       "         [1.0000, 0.0000, 0.0000, 1.0000, 0.2550, 0.7450, 0.3000, 0.3000]]),\n",
       " tensor([[0.0000, 1.0000, 0.0000, 1.0000, 0.7500, 0.7500, 0.4000, 0.4000]])]"
      ]
     },
     "execution_count": 403,
     "metadata": {},
     "output_type": "execute_result"
    }
   ],
   "source": [
    "label"
   ]
  },
  {
   "cell_type": "markdown",
   "metadata": {},
   "source": [
    "For the predictions in each batch, sort the boxes from highest to lowest confidence\n",
    "and just like for the labels, replace the batch dimension with a list."
   ]
  },
  {
   "cell_type": "code",
   "execution_count": 404,
   "metadata": {},
   "outputs": [],
   "source": [
    "# [(cells^2, classes + 5,)], len = batches\n",
    "pred = [pred[i] for i in range(BATCHES)]"
   ]
  },
  {
   "cell_type": "code",
   "execution_count": 405,
   "metadata": {},
   "outputs": [],
   "source": [
    "for i in range(BATCHES):\n",
    "\t# (cells^2, classes + 5,)\n",
    "\tp = pred[i]\n",
    "\n",
    "\t# (cells^2,)\n",
    "\tp_probs = p[..., CLASSES]\n",
    "\n",
    "\t# (cells^2,)\n",
    "\tindices = torch.argsort(p_probs, descending=True)\n",
    "\n",
    "\t# (cells^2, classes + 5,) - sorted\n",
    "\tpred[i] = p[indices]"
   ]
  },
  {
   "cell_type": "code",
   "execution_count": 406,
   "metadata": {},
   "outputs": [
    {
     "data": {
      "text/plain": [
       "[tensor([[0.8000, 0.2000, 0.5000, 0.9000, 0.2250, 0.2750, 0.4250, 0.4750],\n",
       "         [0.0931, 0.0965, 0.0706, 0.0991, 0.5285, 0.0396, 0.0149, 0.0459],\n",
       "         [0.0863, 0.0777, 0.0520, 0.0787, 0.0089, 0.5209, 0.0224, 0.0009],\n",
       "         [0.0055, 0.0223, 0.0021, 0.0451, 0.5225, 0.5148, 0.0040, 0.0268]]),\n",
       " tensor([[0.1000, 0.5000, 0.8000, 0.7000, 0.0500, 0.0500, 0.5000, 0.1000],\n",
       "         [0.1000, 0.7000, 0.1000, 0.6000, 0.7200, 0.7600, 0.4000, 0.4000],\n",
       "         [0.0104, 0.0601, 0.0371, 0.0779, 0.0062, 0.5496, 0.0068, 0.0383],\n",
       "         [0.0345, 0.0571, 0.0519, 0.0395, 0.5092, 0.0393, 0.0087, 0.0446]])]"
      ]
     },
     "execution_count": 406,
     "metadata": {},
     "output_type": "execute_result"
    }
   ],
   "source": [
    "pred"
   ]
  },
  {
   "cell_type": "markdown",
   "metadata": {},
   "source": [
    "For each batch, calculate the iou matrix such that:\n",
    "```\n",
    "mat[i][j] = iou of label box i and predicted box j\n",
    "```\n",
    "Then, iterate over all the predicted boxes, assigning a prediction to a target and\n",
    "calculating if box is a true positive, or a false positive."
   ]
  },
  {
   "cell_type": "code",
   "execution_count": 407,
   "metadata": {},
   "outputs": [],
   "source": [
    "def iou_vec(target, boxes):\n",
    "\t'''\n",
    "\tCalculates the IOU of each box in `boxes` with the target.\n",
    "\tinput:\n",
    "\t\ttarget: (classes + 5,)\n",
    "\t\tboxes: (x, classes + 5)\n",
    "\toutput: the iou\n",
    "\t\t(x,)\n",
    "\t'''\n",
    "\t# extract the number of classes\n",
    "\tclasses = target.shape[0] - 5\n",
    "\n",
    "\t# match the dimensions\n",
    "\t# (1, classes + 5)\n",
    "\ttarget = target.unsqueeze(0)\n",
    "\t\n",
    "\t# extract the target's location and size\n",
    "\t# (1, 2)\n",
    "\tt_l = target[..., classes + 1: classes + 3]\n",
    "\tt_s = target[..., classes + 3: classes + 5]\n",
    "\n",
    "\t# extract the boxes' locations and sizes\n",
    "\t# (x, 2)\n",
    "\tb_l = boxes[..., classes + 1: classes + 3]\n",
    "\tb_s = boxes[..., classes + 3: classes + 5]\n",
    "\n",
    "\t# extract the target's points - top left and bottom right\n",
    "\t# (1, 2)\n",
    "\tt_tl = t_l - t_s / 2\n",
    "\tt_br = t_l + t_s / 2\n",
    "\n",
    "\t# extract the boxes's points - top left and bottom right\n",
    "\t# (x, 2)\n",
    "\tb_tl = b_l - b_s / 2\n",
    "\tb_br = b_l + b_s / 2\n",
    "\n",
    "\t# x segment shared between the boxes\n",
    "\t# (x,)\n",
    "\tdelta_x = (\n",
    "\t\ttorch.minimum(t_br[..., 0], b_br[..., 0]) -\n",
    "\t\ttorch.maximum(t_tl[..., 0], b_tl[..., 0])\n",
    "\t).clamp(0.0, None)\n",
    "\n",
    "\t# y segment shared between the boxes\n",
    "\t# (x,)\n",
    "\tdelta_y = (\n",
    "\t\t\ttorch.minimum(t_br[..., 1], b_br[..., 1]) -\n",
    "\t\t\ttorch.maximum(t_tl[..., 1], b_tl[..., 1])\n",
    "\t).clamp(0.0, None)\n",
    "\n",
    "\t# intersection and union\n",
    "\t# (x,)\n",
    "\tintersection = delta_x * delta_y\n",
    "\tunion = b_s[..., 0] * b_s[..., 1] + t_s[..., 0] * t_s[..., 1] - intersection\n",
    "\n",
    "\t# iou with numerical stability\n",
    "\treturn intersection / (union + 1e-5)"
   ]
  },
  {
   "cell_type": "code",
   "execution_count": 408,
   "metadata": {},
   "outputs": [],
   "source": [
    "def iou_mat(a, b):\n",
    "\t'''\n",
    "\tinput: matrices with boxes\n",
    "\t\ta: (x, classes + 5)\n",
    "\t\tb: (y, classes + 5)\n",
    "\toutput: a matrix such that mat[i][j] = iou(a[i], b[j])\n",
    "\t\tmat: (x, y)\n",
    "\t'''\n",
    "\t# list of (y,), len = x\n",
    "\trows = [iou_vec(a[i], b) for i in range(a.shape[0])]\n",
    "\t\n",
    "\t# reshape to list of (1, y), and concat to (x, y)\n",
    "\treturn torch.cat([row.unsqueeze(0) for row in rows], dim=0)"
   ]
  },
  {
   "cell_type": "code",
   "execution_count": 432,
   "metadata": {},
   "outputs": [],
   "source": [
    "def filter_class(t, c):\n",
    "\t'''\n",
    "\tinput:\n",
    "\t\tt: (?, classes + 5)\n",
    "\t\tc: int\n",
    "\tout:\n",
    "\t\tfiltered: (?, classes + 5) such that argmax(filtered[:classes]) = c\n",
    "\t'''\n",
    "\tclasses = t.shape[1] - 5\n",
    "\t\n",
    "\t# extract the classes\n",
    "\tt_classes = t[:, :classes]\n",
    "\n",
    "\t# arg-max over the classes\n",
    "\tidx = torch.argmax(t_classes, dim=-1)\n",
    "\t\n",
    "\t# filter by the arg-max\n",
    "\tfiltered = idx == c\n",
    "\treturn t[filtered]\n",
    "\n",
    "def calculate_image_stats(pred, label, iou_threshold, c):\n",
    "\t'''\n",
    "\tinput:\n",
    "\t\tpred: list of (?, classes + 5) - predicted boxes\n",
    "\t\tlabel: list of (?, classes + 5) - label boxes\n",
    "\t\tiou_threshold - predictions share an iou above this threshold count as\n",
    "\t\t\ttrue positives\n",
    "\t\tc - the class\n",
    "\toutput:\n",
    "\t\timage_stats: list of stats for each item in the batch.\n",
    "\t\tstats:\n",
    "\t\t\tnum_labels - number of labels\n",
    "\t\t\tstats - list of tuples: ('TP' or 'FP', the confidence of that box)\n",
    "\t'''\n",
    "\timage_stats = []\n",
    "\n",
    "\tfor b in range(BATCHES):\n",
    "\t\t# (x, 5)\n",
    "\t\tp = filter_class(pred[b], c)\n",
    "\t\t\n",
    "\t\t# (y, 5)\n",
    "\t\tl = filter_class(label[b], c)\n",
    "\n",
    "\t\t# if there are no positive labels then all boxes are false positives\n",
    "\t\tif l.shape[0] == 0:\n",
    "\t\t\tstats = []\n",
    "\t\t\tfor i in range(p.shape[0]):\n",
    "\t\t\t\tconfidence = p[i][CLASSES].item()\n",
    "\t\t\t\tclassification = 'FP'\n",
    "\t\t\t\tstats.append((classification, confidence))\n",
    "\t\telse:\n",
    "\t\t\t# (x, y)\n",
    "\t\t\tious = iou_mat(p, l)\n",
    "\n",
    "\t\t\tstats = []\n",
    "\t\t\tfor i in range(p.shape[0]):\n",
    "\t\t\t\t# (y,)\n",
    "\t\t\t\tlabel_ious = ious[i]\n",
    "\n",
    "\t\t\t\t# find the label with the maximum IOU\n",
    "\t\t\t\t# (1,)\n",
    "\t\t\t\tval, idx = torch.max(label_ious, dim=0)\n",
    "\n",
    "\t\t\t\t# if the IOU is above the threshold, mark the box as a true positive,\n",
    "\t\t\t\t# and consume the label\n",
    "\t\t\t\tconfidence = p[i][CLASSES].item()\n",
    "\t\t\t\tif val > iou_threshold:\n",
    "\t\t\t\t\tclassification = 'TP'\n",
    "\t\t\t\t\tious[: idx] = -1\n",
    "\t\t\t\telse:\n",
    "\t\t\t\t\tclassification = 'FP'\n",
    "\t\t\t\t\n",
    "\t\t\t\tstats.append((classification, confidence))\n",
    "\n",
    "\t\timage_stats.append({\n",
    "\t\t\t'num_labels': l.shape[0],\n",
    "\t\t\t'stats': stats,\n",
    "\t\t})\n",
    "\t\n",
    "\treturn image_stats"
   ]
  },
  {
   "cell_type": "code",
   "execution_count": 433,
   "metadata": {},
   "outputs": [
    {
     "data": {
      "text/plain": [
       "[{'num_labels': 2,\n",
       "  'stats': [('TP', 0.8999999761581421), ('FP', 0.07871577888727188)]},\n",
       " {'num_labels': 0, 'stats': []}]"
      ]
     },
     "execution_count": 433,
     "metadata": {},
     "output_type": "execute_result"
    }
   ],
   "source": [
    "# example\n",
    "calculate_image_stats(pred, label, 0.5, 0)"
   ]
  },
  {
   "cell_type": "code",
   "execution_count": 411,
   "metadata": {},
   "outputs": [],
   "source": [
    "# allocate a container from the stats\n",
    "iou_c_stats = {}\n",
    "for i in IOU_THRESHOLDS:\n",
    "\tiou_c_stats[i] = {}\n",
    "\tfor j in range(CLASSES):\n",
    "\t\tiou_c_stats[i][j] = {}\n",
    "\n",
    "# calculate the precision vs recall graph for all thresholds and for all classes\n",
    "for iou_threshold in IOU_THRESHOLDS:\n",
    "\tfor c in range(CLASSES):\n",
    "\t\t# combine the stats from all the batches\n",
    "\t\tnum_labels = 0\n",
    "\t\tstats = []\n",
    "\t\tfor item in calculate_image_stats(pred, label, iou_threshold, c):\n",
    "\t\t\tnum_labels += item['num_labels']\n",
    "\t\t\tstats += item['stats']\n",
    "\t\t\n",
    "\t\t# if there are no positive labels, ignore this case\n",
    "\t\tif num_labels == 0:\n",
    "\t\t\tiou_c_stats[iou_threshold][c] = {\n",
    "\t\t\t\t'precision': [],\n",
    "\t\t\t\t'recall': [],\n",
    "\t\t\t\t'confidence': [],\n",
    "\t\t\t}\n",
    "\t\telse:\n",
    "\t\t\t# sort by box confidence\n",
    "\t\t\tstats.sort(key=lambda s: s[1], reverse=True)\n",
    "\n",
    "\t\t\t# calculate precision, recall, confidence\n",
    "\t\t\tprecision = []\n",
    "\t\t\trecall = []\n",
    "\t\t\tconfidence = []\n",
    "\t\t\ttps = 0\n",
    "\t\t\tpositive_predictions = 0\n",
    "\t\t\tfor box_m, box_c in stats:\n",
    "\t\t\t\tif box_m == 'TP':\n",
    "\t\t\t\t\ttps += 1\n",
    "\t\t\t\t\n",
    "\t\t\t\tpositive_predictions += 1\n",
    "\t\t\t\tprecision.append(tps / positive_predictions)\n",
    "\t\t\t\trecall.append(tps / num_labels)\n",
    "\t\t\t\tconfidence.append(box_c)\n",
    "\t\t\t\n",
    "\t\t\tiou_c_stats[iou_threshold][c] = {\n",
    "\t\t\t\t'precision': precision,\n",
    "\t\t\t\t'recall': recall,\n",
    "\t\t\t\t'confidence': confidence,\n",
    "\t\t\t}"
   ]
  },
  {
   "cell_type": "code",
   "execution_count": 436,
   "metadata": {},
   "outputs": [],
   "source": [
    "def area(xs, ys):\n",
    "\tassert len(xs) == len(ys)\n",
    "\ta = 0\n",
    "\tfor i in range(len(xs) - 1):\n",
    "\t\tdelta_x = xs[i + 1] - xs[i]\n",
    "\t\ty2 = ys[i + 1]\n",
    "\t\ty1 = ys[i]\n",
    "\t\ta += delta_x / 2 * (3 * y2 - y1)\n",
    "\treturn a\n",
    "\n",
    "# calculate the mean average precision\n",
    "map_xs = []\n",
    "map_ys = []\n",
    "for iou_threshold in IOU_THRESHOLDS:\n",
    "\tmap_xs.append(iou_threshold)\n",
    "\tmap_ys.append(sum(\n",
    "\t\tarea(\n",
    "\t\t\tiou_c_stats[iou_threshold][c]['recall'],\n",
    "\t\t\tiou_c_stats[iou_threshold][c]['precision']\n",
    "\t\t)\n",
    "\t\tfor c in range(CLASSES)\n",
    "\t) / CLASSES)"
   ]
  },
  {
   "cell_type": "code",
   "execution_count": null,
   "metadata": {},
   "outputs": [],
   "source": []
  }
 ],
 "metadata": {
  "kernelspec": {
   "display_name": "Python 3.9.12 ('deeplearning': conda)",
   "language": "python",
   "name": "python3"
  },
  "language_info": {
   "codemirror_mode": {
    "name": "ipython",
    "version": 3
   },
   "file_extension": ".py",
   "mimetype": "text/x-python",
   "name": "python",
   "nbconvert_exporter": "python",
   "pygments_lexer": "ipython3",
   "version": "3.9.12"
  },
  "orig_nbformat": 4,
  "vscode": {
   "interpreter": {
    "hash": "97ab8744f7a53f8c1d39193307bac8ca574240e0a995281b73c39680c96e92b7"
   }
  }
 },
 "nbformat": 4,
 "nbformat_minor": 2
}
